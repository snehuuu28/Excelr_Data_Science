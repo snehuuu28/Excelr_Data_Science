{
 "cells": [
  {
   "cell_type": "markdown",
   "id": "38b9f2ed-09c8-4f83-9719-4645f93e0064",
   "metadata": {},
   "source": [
    "# Interview Questions:"
   ]
  },
  {
   "cell_type": "markdown",
   "id": "11dc063b-d87a-4289-97ac-87b676bce165",
   "metadata": {},
   "source": [
    "# 1. What is the difference between precision and recall?"
   ]
  },
  {
   "cell_type": "markdown",
   "id": "f8e2e304-f6ff-4df5-8a9a-d1d52f6f873a",
   "metadata": {},
   "source": [
    "- Precision and recall are metrics used to evaluate the performance of classification models, especially in imbalanced datasets.\n",
    "\n",
    "1) Precision: Measures the accuracy of positive predictions. It answers the question: \"Out of all the samples predicted as positive, how many were actually positive?\"\n",
    "\n",
    "* Precision = True Positives (TP) / ( True Positives (TP) + False Positives (FP) )\n",
    "* High Precision: Indicates that when the model predicts positive, it is often correct (low false positive rate).\n",
    "\n",
    "2) Recall: Measures the ability of the model to identify all relevant positive instances. It answers the question: \"Out of all the actual positive samples, how many did the model correctly identify?\"\n",
    " \n",
    "* Recall = True Positives (TP) / True Positives (TP) + False Negatives (FN)\n",
    "* High Recall: Indicates the model identifies most positive cases (low false negative rate).\n",
    "\n",
    "* Key Difference:\n",
    "\n",
    "- Precision focuses on the quality of positive predictions.\n",
    "- Recall focuses on the completeness of positive predictions.\n",
    "\n",
    "- In some cases (e.g., fraud detection), recall might be prioritized to catch as many fraud cases as possible, even at the expense of precision. In other cases (e.g., spam email filtering), precision might be prioritized to avoid marking legitimate emails as spam."
   ]
  },
  {
   "cell_type": "markdown",
   "id": "57efbeda-7d99-472c-88c9-19e24b2981aa",
   "metadata": {},
   "source": [
    "# 2. What is cross-validation, and why is it important in binary classification?\n"
   ]
  },
  {
   "cell_type": "markdown",
   "id": "06fe979e-d204-4347-9107-feab4dd042e7",
   "metadata": {},
   "source": [
    "- Cross-validation is a technique used to evaluate the performance of a machine learning model by splitting the dataset into multiple subsets (or folds) to ensure the model generalizes well to unseen data.\n",
    "\n",
    "* Process:\n",
    "1) The dataset is divided into 𝑘 folds (e.g., 5 or 10).\n",
    "2) The model is trained on 𝑘−1 folds and validated on the remaining fold.\n",
    "3) This process is repeated  𝑘 times, with each fold serving as the validation set exactly once.\n",
    "4) The results are averaged to provide an overall performance estimate.\n",
    "\n",
    "* Why is it important in binary classification?\n",
    "\n",
    "1) Avoids Overfitting:\n",
    " * Binary classification models, especially with imbalanced datasets, can overfit to the training data. Cross-validation ensures the model performs consistently across different data splits.\n",
    "\n",
    "2) Provides a Robust Performance Estimate:\n",
    "\n",
    "* It reduces the variance of the performance metric by using multiple subsets, giving a more reliable estimate of the model's generalization ability.\n",
    "\n",
    "3) Optimizes Model Tuning:\n",
    "\n",
    "* During hyperparameter tuning (e.g., grid search), cross-validation ensures that the best parameters are chosen based on how well the model performs across folds, not just a single train-test split.\n",
    "\n",
    "4) Handles Data Imbalance:\n",
    "\n",
    " * Stratified cross-validation ensures that each fold maintains the same class distribution as the original dataset, leading to more meaningful evaluation in binary classification tasks."
   ]
  }
 ],
 "metadata": {
  "kernelspec": {
   "display_name": "Python 3 (ipykernel)",
   "language": "python",
   "name": "python3"
  },
  "language_info": {
   "codemirror_mode": {
    "name": "ipython",
    "version": 3
   },
   "file_extension": ".py",
   "mimetype": "text/x-python",
   "name": "python",
   "nbconvert_exporter": "python",
   "pygments_lexer": "ipython3",
   "version": "3.12.4"
  }
 },
 "nbformat": 4,
 "nbformat_minor": 5
}
