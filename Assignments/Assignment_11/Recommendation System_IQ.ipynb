{
 "cells": [
  {
   "cell_type": "markdown",
   "id": "5a93c17e-b5ee-4460-beac-58e3dec03500",
   "metadata": {},
   "source": [
    "# Interview Questions:"
   ]
  },
  {
   "cell_type": "markdown",
   "id": "2157d323-0464-4b0f-b8ca-c19d47731d8a",
   "metadata": {},
   "source": [
    "# 1. Can you explain the difference between user-based and item-based collaborative filtering?"
   ]
  },
  {
   "cell_type": "markdown",
   "id": "9b5e6ee5-a009-4750-8696-b269d72fd912",
   "metadata": {},
   "source": [
    "Collaborative filtering is a technique used in recommendation systems to predict a user's interests by analyzing patterns of preferences shared by multiple users. There are two main types: user-based and item-based collaborative filtering.\n",
    "\n",
    "--  User-Based Collaborative Filtering:\n",
    "* Concept: Finds similarities between users to make recommendations. If two users have similar preferences, the items liked by one user are recommended to the other.\n",
    "\n",
    "* How It Works:\n",
    "1) Compute similarity scores between users (e.g., using cosine similarity, Pearson correlation).\n",
    "2) Identify the most similar users (neighbors) to the target user.\n",
    "3) Recommend items liked by similar users but not yet interacted with by the target user.\n",
    "\n",
    "* Example: If User A and User B have both highly rated several comedy movies, and User B has also rated a specific comedy movie highly, that movie will be recommended to User A.\n",
    "\n",
    "* Limitations: May struggle with sparsity in the user-item matrix if users have few overlapping preferences.\n",
    "\n",
    "-- Item-Based Collaborative Filtering:\n",
    "\n",
    "* Concept: Finds similarities between items to make recommendations. If two items are frequently liked by the same users, one item is recommended to users who liked the other.\n",
    "\n",
    "* How It Works:\n",
    "1) Compute similarity scores between items (e.g., using cosine similarity or co-occurrence metrics).\n",
    "2) Identify items similar to those the target user has interacted with.\n",
    "3) Recommend the most similar items.\n",
    "\n",
    "* Example: If a user likes a particular phone model, the system might recommend accessories or similar phone models based on the preferences of other users who liked the same phone.\n",
    "\n",
    "* Advantages: More stable and scalable compared to user-based filtering, especially for systems with many users but fewer items."
   ]
  },
  {
   "cell_type": "markdown",
   "id": "0e6bf5e3-91ea-4aa1-b711-ff239bff5f26",
   "metadata": {},
   "source": [
    "# 2. What is collaborative filtering, and how does it work?"
   ]
  },
  {
   "cell_type": "markdown",
   "id": "eca186c0-4771-40cb-b561-a431f81d8edd",
   "metadata": {},
   "source": [
    "Collaborative Filtering is a recommendation technique that makes predictions about a user's preferences based on the past preferences of multiple users. The core idea is that users with similar tastes or items with similar usage patterns can help predict preferences.\n",
    "\n",
    "* How It Works:\n",
    "\n",
    "1) Data Collection:\n",
    "-  Gather user-item interaction data, typically in the form of a sparse matrix where rows represent users, columns represent items, and values represent\n",
    "user ratings or interactions.\n",
    "\n",
    "2) Identify Similarities:\n",
    "- Use similarity measures (e.g., cosine similarity, Pearson correlation) to find relationships between users or items.\n",
    "- User-based filtering: Find users with similar interaction patterns.\n",
    "- Item-based filtering: Find items frequently rated or interacted with together.\n",
    "\n",
    "3) Predict Preferences:\n",
    "- Estimate the missing values in the user-item matrix by aggregating information from similar users or items.\n",
    "Prediction Formula (for user-based):\n",
    "\n",
    "4) Make Recommendations:\n",
    "- Recommend items with the highest predicted preferences.\n",
    "\n",
    "* Advantages:\n",
    "- Does not require explicit item features or metadata (relies only on user behavior).\n",
    "- Can uncover unexpected associations between items or users.\n",
    "\n",
    "* Challenges:\n",
    "1) Sparsity: Many users may interact with only a small subset of items, leading to a sparse user-item matrix.\n",
    "2) Cold Start Problem:\n",
    "- New users: No interaction history to base recommendations on.\n",
    "- New items: Insufficient data to compute similarities.\n",
    "\n",
    "3) Scalability: Large datasets can lead to high computational costs in similarity computations.\n",
    "4) Diversity: Tends to reinforce popular items, potentially limiting the diversity of recommendations.\n"
   ]
  }
 ],
 "metadata": {
  "kernelspec": {
   "display_name": "Python 3 (ipykernel)",
   "language": "python",
   "name": "python3"
  },
  "language_info": {
   "codemirror_mode": {
    "name": "ipython",
    "version": 3
   },
   "file_extension": ".py",
   "mimetype": "text/x-python",
   "name": "python",
   "nbconvert_exporter": "python",
   "pygments_lexer": "ipython3",
   "version": "3.12.4"
  }
 },
 "nbformat": 4,
 "nbformat_minor": 5
}
