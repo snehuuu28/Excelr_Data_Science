{
 "cells": [
  {
   "cell_type": "markdown",
   "id": "76868168-fdf2-4f99-b563-0f725636341f",
   "metadata": {},
   "source": [
    "# 1. State the Hypotheses"
   ]
  },
  {
   "cell_type": "markdown",
   "id": "5f0da506-a8fe-4860-8dca-11e1f76ca9ba",
   "metadata": {},
   "source": [
    "* Null Hypothesis (H0): The observed weekly operating costs are consistent with the cost model.\n",
    "𝐻0:𝜇=Theoretical Mean Weekly Cost\n",
    "\n",
    "* Alternative Hypothesis (H1): The observed weekly operating costs are higher than the cost model.\n",
    "𝐻1:𝜇 > Theoretical Mean Weekly Cost\n"
   ]
  },
  {
   "cell_type": "markdown",
   "id": "848c3b59-21b3-40b1-8408-9dacd5fe639e",
   "metadata": {},
   "source": [
    "# 2. Calculate the Test Statistic"
   ]
  },
  {
   "cell_type": "markdown",
   "id": "68208c5c-cf01-4922-a3ec-497ad7e9faa1",
   "metadata": {},
   "source": [
    "First, let's determine the theoretical mean weekly cost based on the provided model:\n",
    "𝑊=1,000+5 × 𝑋\n",
    "For X=600:\n",
    "𝑊=1,000+5 × 600=1,000+3,000 = 4,000\n",
    "\n",
    "Now, calculate the standard deviation of the weekly cost:\n",
    "\n",
    "𝜎cost= 5 × 𝜎𝑋 \n",
    "\n",
    "Given 𝜎𝑋=25:\n",
    "𝜎cost= 5 × 25 = 125\n",
    "\n",
    "Next, calculate the test statistic \n",
    " t using the formula: 𝑡 = (mean - 𝜇)/(𝜎cost/sqrt(n))\n",
    "Where:\n",
    "mean = 3050 (sample mean weekly cost)\n",
    "μ=4,000 (theoretical mean weekly cost)\n",
    "𝜎cost = 125\n",
    "n=25 (sample size)\n",
    "Substitute these values into the formula:\n",
    "𝑡 = (3,050 − 4,000)/(125/sqrt(25))\n",
    "t = -950/(125/ 25)\n",
    "𝑡 = −950/25\n",
    "​𝑡 = -38\n"
   ]
  },
  {
   "cell_type": "markdown",
   "id": "36f877ec-8585-4f5d-8c3c-9d0ab8e19c72",
   "metadata": {},
   "source": [
    "# 3. Determine the Critical Value"
   ]
  },
  {
   "cell_type": "markdown",
   "id": "7c91bd81-da95-4cc1-b9e0-023c337ac881",
   "metadata": {},
   "source": [
    "For a one-tailed test with \n",
    "α=0.05, the critical value from the Z-distribution table is approximately −1.645 (since we are testing for greater-than, we look at the negative critical value)."
   ]
  },
  {
   "cell_type": "markdown",
   "id": "1d24d565-74a1-4383-a6be-aa32b2e83f80",
   "metadata": {},
   "source": [
    "# 4. Make a Decision"
   ]
  },
  {
   "cell_type": "markdown",
   "id": "0e2997cc-64ca-45fa-b983-2ff383ebc22d",
   "metadata": {},
   "source": [
    "* Compare the test statistic with the critical value:\n",
    "\n",
    "- Test statistic  t=−38\n",
    "- Critical value  −1.645\n",
    "- Since −38 is much less than −1.645, we reject the null hypothesis."
   ]
  },
  {
   "cell_type": "code",
   "execution_count": 9,
   "id": "cd171854-b5a6-4570-8e54-c0ad49731e7f",
   "metadata": {},
   "outputs": [
    {
     "name": "stdout",
     "output_type": "stream",
     "text": [
      "Test Statistic: -38.00\n",
      "Critical Value: 1.64\n",
      "Reject the null hypothesis.\n"
     ]
    }
   ],
   "source": [
    "import scipy.stats as stats\n",
    "import numpy as np\n",
    "\n",
    "# Given data\n",
    "sample_mean = 3050\n",
    "theoretical_mean = 4000\n",
    "sigma_X = 25\n",
    "n = 25\n",
    "alpha = 0.05\n",
    "\n",
    "# Calculate standard deviation of weekly cost\n",
    "sigma_cost = 5 * sigma_X\n",
    "\n",
    "# Calculate test statistic\n",
    "test_statistic = (sample_mean - theoretical_mean) / (sigma_cost / np.sqrt(n))\n",
    "\n",
    "# Critical value for one-tailed test\n",
    "critical_value = stats.norm.ppf(1 - alpha)\n",
    "\n",
    "# Print results\n",
    "print(f\"Test Statistic: {test_statistic:.2f}\")\n",
    "print(f\"Critical Value: {critical_value:.2f}\")\n",
    "\n",
    "# Decision\n",
    "if test_statistic < critical_value:\n",
    "    print(\"Reject the null hypothesis.\")\n",
    "else:\n",
    "    print(\"Fail to reject the null hypothesis.\")\n"
   ]
  },
  {
   "cell_type": "markdown",
   "id": "f98c6032-7ede-4e07-8a76-bff8d88bdabc",
   "metadata": {},
   "source": [
    "# 5. Conclusion"
   ]
  },
  {
   "cell_type": "markdown",
   "id": "36b6682e-902c-4a67-b78d-56686ef5e99e",
   "metadata": {},
   "source": [
    "The test statistic indicates that the observed weekly operating costs are significantly lower than the theoretical cost model. This suggests that there is no strong evidence to support the claim that the weekly operating costs are higher than the model suggests."
   ]
  }
 ],
 "metadata": {
  "kernelspec": {
   "display_name": "Python 3 (ipykernel)",
   "language": "python",
   "name": "python3"
  },
  "language_info": {
   "codemirror_mode": {
    "name": "ipython",
    "version": 3
   },
   "file_extension": ".py",
   "mimetype": "text/x-python",
   "name": "python",
   "nbconvert_exporter": "python",
   "pygments_lexer": "ipython3",
   "version": "3.12.4"
  }
 },
 "nbformat": 4,
 "nbformat_minor": 5
}
