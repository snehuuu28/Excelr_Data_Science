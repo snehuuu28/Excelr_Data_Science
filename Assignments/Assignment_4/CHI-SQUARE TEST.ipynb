{
 "cells": [
  {
   "cell_type": "markdown",
   "id": "d57998de-b872-4159-86d6-6f7b5ccd75a9",
   "metadata": {},
   "source": [
    "# 1. State the Hypotheses:"
   ]
  },
  {
   "cell_type": "markdown",
   "id": "acdc18cc-318b-4b76-896e-61cd17505878",
   "metadata": {},
   "source": [
    "* Null Hypothesis (H0): There is no association between the type of device purchased and customer satisfaction (i.e., they are independent).\n",
    "\n",
    "* Alternative Hypothesis (H1): There is an association between the type of device purchased and customer satisfaction (i.e., they are not independent)."
   ]
  },
  {
   "cell_type": "markdown",
   "id": "2a933419-9ed1-4cc7-bbe5-8e1592aadb88",
   "metadata": {},
   "source": [
    "# 2. Compute the Chi-Square Statistic:"
   ]
  },
  {
   "cell_type": "markdown",
   "id": "99cc19f6-15a8-46d6-9940-5663c4917bd7",
   "metadata": {},
   "source": [
    "* Purpose: To compare the observed data with what would be expected under the null hypothesis (i.e., if the variables were independent).\n",
    "\n",
    "* Observed Data: The actual data provided in the contingency table."
   ]
  },
  {
   "cell_type": "code",
   "execution_count": 5,
   "id": "4c6ec535-6733-4e69-ac72-e00820ef702e",
   "metadata": {},
   "outputs": [
    {
     "name": "stdout",
     "output_type": "stream",
     "text": [
      "Chi-Square Statistic: 5.638227513227513\n",
      "Degrees of Freedom: 4\n",
      "Expected Frequencies:\n",
      "[[ 48.  72.]\n",
      " [ 72. 108.]\n",
      " [ 60.  90.]\n",
      " [ 32.  48.]\n",
      " [ 28.  42.]]\n"
     ]
    }
   ],
   "source": [
    "import numpy as np\n",
    "import scipy.stats as stats\n",
    "\n",
    "# Observed frequency table\n",
    "observed = np.array([\n",
    "    [50, 70],  # Very Satisfied\n",
    "    [80, 100], # Satisfied\n",
    "    [60, 90],  # Neutral\n",
    "    [30, 50],  # Unsatisfied\n",
    "    [20, 50]   # Very Unsatisfied\n",
    "])\n",
    "\n",
    "# Calculate the Chi-Square statistic and p-value\n",
    "chi2_stat, p_val, dof, expected = stats.chi2_contingency(observed)\n",
    "\n",
    "print(f\"Chi-Square Statistic: {chi2_stat}\")\n",
    "print(f\"Degrees of Freedom: {dof}\")\n",
    "print(f\"Expected Frequencies:\\n{expected}\")\n"
   ]
  },
  {
   "cell_type": "markdown",
   "id": "eced878d-7222-430f-a05b-befa75c71739",
   "metadata": {},
   "source": [
    "# 3. Determine the Critical Value:\n",
    "Using the significance level (alpha) of 0.05 and the degrees of freedom (which is the number of categories minus 1)\n"
   ]
  },
  {
   "cell_type": "code",
   "execution_count": 7,
   "id": "31e60471-8804-4b9a-9c5a-c69f54bc5544",
   "metadata": {},
   "outputs": [
    {
     "name": "stdout",
     "output_type": "stream",
     "text": [
      "Critical Value: 9.487729036781154\n"
     ]
    }
   ],
   "source": [
    "# Set the significance level (alpha)\n",
    "alpha = 0.05\n",
    "\n",
    "# Calculate the critical value from the Chi-Square distribution table\n",
    "critical_value = stats.chi2.ppf(1 - alpha, dof)\n",
    "\n",
    "print(f\"Critical Value: {critical_value}\")\n"
   ]
  },
  {
   "cell_type": "markdown",
   "id": "59ac4046-d8b0-4e48-b70c-e6e9d9a49f84",
   "metadata": {},
   "source": [
    "* Explanation:\n",
    "\n",
    "* Significance Level (alpha): The probability of rejecting the null hypothesis when it is actually true (Type I error). Commonly set at 0.05.\n",
    "\n",
    "* Critical Value: The threshold value that the Chi-Square statistic must exceed to reject the null hypothesis. This value depends on the degrees of freedom and the significance level."
   ]
  },
  {
   "cell_type": "markdown",
   "id": "ec3397bd-4f5c-4772-951c-9d8a9e693b3d",
   "metadata": {},
   "source": [
    "# Step 4: Make a Decision"
   ]
  },
  {
   "cell_type": "code",
   "execution_count": 10,
   "id": "a6bbe698-e442-4ac8-aabb-1ef19504e04d",
   "metadata": {},
   "outputs": [
    {
     "name": "stdout",
     "output_type": "stream",
     "text": [
      "Fail to reject the null hypothesis: No significant association between device type and customer satisfaction.\n"
     ]
    }
   ],
   "source": [
    " #To determine whether to reject the null hypothesis based on the Chi-Square statistic and critical value.\n",
    "# Decision Rule\n",
    "if chi2_stat > critical_value:\n",
    "    print(\"Reject the null hypothesis: There is an association between device type and customer satisfaction.\")\n",
    "else:\n",
    "    print(\"Fail to reject the null hypothesis: No significant association between device type and customer satisfaction.\")\n"
   ]
  },
  {
   "cell_type": "markdown",
   "id": "81d3ec65-d38b-4d4c-b57e-42ac6e5fd5e0",
   "metadata": {},
   "source": [
    "* Explanation:\n",
    "\n",
    "- Reject the Null Hypothesis: If the Chi-Square statistic is greater than the critical value, this indicates that the observed data significantly differs from what we would expect under the null hypothesis, suggesting an association between device type and satisfaction.\n",
    "\n",
    "- Fail to Reject the Null Hypothesis: If the Chi-Square statistic is less than or equal to the critical value, this suggests that the observed data is consistent with the null hypothesis, implying no significant association."
   ]
  },
  {
   "cell_type": "markdown",
   "id": "309905f7-5df8-4c85-a17c-b3a0cab6d68e",
   "metadata": {},
   "source": [
    "# Step 5: Interpret the Results"
   ]
  },
  {
   "cell_type": "markdown",
   "id": "66d8692e-67ab-4a73-91ec-09e700f6b87c",
   "metadata": {},
   "source": [
    "* If χ² > Critical Value: You conclude that there's a significant association between device type and customer satisfaction.\n",
    "\n",
    "* If χ² ≤ Critical Value: You conclude that there's no significant association, implying that customer satisfaction levels are independent of the device type.\n"
   ]
  },
  {
   "cell_type": "markdown",
   "id": "329d2f9a-5352-4b77-9520-b49e4d02d296",
   "metadata": {},
   "source": [
    "# Conclusion"
   ]
  },
  {
   "cell_type": "markdown",
   "id": "0a766ac0-36c3-4742-a7ce-c0c1d534e6ab",
   "metadata": {},
   "source": [
    "* This script will provide you with the Chi-Square statistic, the critical value, and a conclusion on whether there's an association between the type of device and customer satisfaction based on the data provided."
   ]
  }
 ],
 "metadata": {
  "kernelspec": {
   "display_name": "Python 3 (ipykernel)",
   "language": "python",
   "name": "python3"
  },
  "language_info": {
   "codemirror_mode": {
    "name": "ipython",
    "version": 3
   },
   "file_extension": ".py",
   "mimetype": "text/x-python",
   "name": "python",
   "nbconvert_exporter": "python",
   "pygments_lexer": "ipython3",
   "version": "3.12.4"
  }
 },
 "nbformat": 4,
 "nbformat_minor": 5
}
