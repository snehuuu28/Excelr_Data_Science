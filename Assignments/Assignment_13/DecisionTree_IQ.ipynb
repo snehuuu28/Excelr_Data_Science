{
 "cells": [
  {
   "cell_type": "markdown",
   "id": "d253b51b-d009-4cb5-9d3b-1e89a3740337",
   "metadata": {},
   "source": [
    "# Interview Questions:"
   ]
  },
  {
   "cell_type": "markdown",
   "id": "6d5976cb-2cf7-4370-841f-f969ac8c67dd",
   "metadata": {},
   "source": [
    "# 1. What are some common hyperparameters of decision tree models, and how do they affect the model's performance?"
   ]
  },
  {
   "cell_type": "markdown",
   "id": "7481dde2-c2cd-4844-b9f6-675a3a0acbd2",
   "metadata": {},
   "source": [
    "1) max_depth: Specifies the maximum depth of the tree.\n",
    "* Effect: Limits overfitting by preventing the tree from growing too deep, which reduces model complexity but may increase bias.\n",
    "\n",
    "2) min_samples_split: The minimum number of samples required to split an internal node.\n",
    "* Effect: A higher value prevents small splits, increasing model robustness but potentially missing finer patterns.\n",
    "\n",
    "3) min_samples_leaf: The minimum number of samples required to be in a leaf node.\n",
    "* Effect: Ensures leaves have a minimum number of samples, preventing overfitting and smoothing the decision boundaries.\n",
    "\n",
    "4) max_features: The number of features to consider when looking for the best split.\n",
    "* Effect: Reduces model variance by limiting the features considered, making the model more robust to noise.\n",
    "\n",
    "5) criterion: Determines the function to measure the quality of a split (e.g., gini or entropy for classification).\n",
    "* Effect: Affects how splits are evaluated and may lead to different decision boundaries.\n",
    "\n",
    "6) max_leaf_nodes: Limits the number of leaf nodes in the tree.\n",
    "* Effect: Simplifies the model by capping the number of leaves, reducing overfitting.\n",
    "\n",
    "7) random_state: Controls the randomness of the estimator (e.g., for splits).\n",
    "* Effect: Ensures reproducibility for the same dataset."
   ]
  },
  {
   "cell_type": "markdown",
   "id": "0af437be-2a7e-4c35-88e1-8c799d9c1c3e",
   "metadata": {},
   "source": [
    "# 2. What is the difference between the Label encoding and One-hot encoding?"
   ]
  },
  {
   "cell_type": "markdown",
   "id": "9f88a096-5371-4a31-8826-481eb3672cb2",
   "metadata": {},
   "source": [
    "1) Label Encoding\n",
    "\n",
    "- Converts categories into integers.\n",
    "- Single column with integer values.\n",
    "- Imposes ordinal relationship between categories, which may be misleading.\n",
    "- Does not increase dimensionality.\n",
    "- Suitable for ordinal data or models that handle categorical data intrinsically (e.g., tree-based models).\n",
    "\n",
    "2) One-Hot Encoding\n",
    "\n",
    "- Converts categories into binary vectors.\n",
    "- Multiple columns, one for each category.\n",
    "- No ordinality; each category is treated independently.\n",
    "- Increases dimensionality significantly for many categories.\n",
    "- Preferred for nominal data or models requiring numerical inputs (e.g., linear regression, neural networks)."
   ]
  }
 ],
 "metadata": {
  "kernelspec": {
   "display_name": "Python 3 (ipykernel)",
   "language": "python",
   "name": "python3"
  },
  "language_info": {
   "codemirror_mode": {
    "name": "ipython",
    "version": 3
   },
   "file_extension": ".py",
   "mimetype": "text/x-python",
   "name": "python",
   "nbconvert_exporter": "python",
   "pygments_lexer": "ipython3",
   "version": "3.12.4"
  }
 },
 "nbformat": 4,
 "nbformat_minor": 5
}
