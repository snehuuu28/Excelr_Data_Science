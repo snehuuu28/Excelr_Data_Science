{
 "cells": [
  {
   "cell_type": "markdown",
   "id": "fcb22f7d-44fa-4f3a-9f47-b0282e9a9990",
   "metadata": {},
   "source": [
    "# Coding Exercises"
   ]
  },
  {
   "cell_type": "markdown",
   "id": "3561f035-2dac-4491-ac5b-826d5c6d0220",
   "metadata": {},
   "source": [
    "# Exercise 1: Prime Numbers"
   ]
  },
  {
   "cell_type": "markdown",
   "id": "af11ccf5-e991-40ca-ae62-9412364f2a77",
   "metadata": {},
   "source": [
    "* Write a Python program that checks whether a given number is prime or not. A prime number is a natural number greater than 1 that has no positive divisors other than 1 and itself."
   ]
  },
  {
   "cell_type": "code",
   "execution_count": 4,
   "id": "2bcbf134-d2a5-4fe0-aa3d-539a1f5a9379",
   "metadata": {},
   "outputs": [
    {
     "name": "stdin",
     "output_type": "stream",
     "text": [
      "Enter a number to check if it is prime:  11\n"
     ]
    },
    {
     "name": "stdout",
     "output_type": "stream",
     "text": [
      "Is 11 a prime number? True\n"
     ]
    }
   ],
   "source": [
    "def is_prime(n):\n",
    "    \"\"\"\n",
    "    Check if a number is prime.\n",
    "    A prime number is only divisible by 1 and itself.\n",
    "    \n",
    "    Parameters:\n",
    "    n (int): The number to check.\n",
    "    \n",
    "    Returns:\n",
    "    bool: True if the number is prime, False otherwise.\n",
    "    \"\"\"\n",
    "    if n <= 1:\n",
    "        return False\n",
    "    for i in range(2, int(n**0.5) + 1):\n",
    "        if n % i == 0:\n",
    "            return False\n",
    "    return True\n",
    "\n",
    "# Ask the user to input a number\n",
    "number = int(input(\"Enter a number to check if it is prime: \"))\n",
    "\n",
    "# Print the result\n",
    "print(f\"Is {number} a prime number? {is_prime(number)}\")\n"
   ]
  },
  {
   "cell_type": "markdown",
   "id": "736c95b9-2fc9-4ceb-95d7-e6cebc48c1f9",
   "metadata": {},
   "source": [
    "# Exercise 2: Product of Random Numbers"
   ]
  },
  {
   "cell_type": "markdown",
   "id": "d6f9ff78-53e7-4e41-afc0-52b84c96ae81",
   "metadata": {},
   "source": [
    "* Develop a Python program that generates two random numbers and asks the user to enter the product of these numbers. The program should then check if the user's answer is correct and display an appropriate message."
   ]
  },
  {
   "cell_type": "code",
   "execution_count": 7,
   "id": "3c2f79ab-420e-4a83-a56e-4ac8155826a8",
   "metadata": {},
   "outputs": [
    {
     "name": "stdin",
     "output_type": "stream",
     "text": [
      "What is the product of 8 and 10?  80\n"
     ]
    },
    {
     "name": "stdout",
     "output_type": "stream",
     "text": [
      "Correct!\n"
     ]
    }
   ],
   "source": [
    "import random\n",
    "\n",
    "def check_product():\n",
    "    \"\"\"\n",
    "    Generate two random numbers and check if the user's product is correct.\n",
    "    \"\"\"\n",
    "    num1 = random.randint(1, 10)\n",
    "    num2 = random.randint(1, 10)\n",
    "    correct_product = num1 * num2\n",
    "    \n",
    "    # Ask the user to input the product\n",
    "    user_input = int(input(f\"What is the product of {num1} and {num2}? \"))\n",
    "    \n",
    "    if user_input == correct_product:\n",
    "        print(\"Correct!\")\n",
    "    else:\n",
    "        print(f\"Incorrect. The correct product is {correct_product}.\")\n",
    "\n",
    "# Run the function\n",
    "check_product()\n"
   ]
  },
  {
   "cell_type": "markdown",
   "id": "8b5b4a76-4dc9-4404-9178-f81c43065279",
   "metadata": {},
   "source": [
    "# Exercise 3: Squares of Even/Odd Numbers"
   ]
  },
  {
   "cell_type": "markdown",
   "id": "7deaa538-14ac-401c-9916-0484728754d5",
   "metadata": {},
   "source": [
    "Create a Python script that prints the squares of all even or odd numbers within the range of 100 to 200. Choose either even or odd numbers and document your choice in the code.\n"
   ]
  },
  {
   "cell_type": "code",
   "execution_count": 10,
   "id": "9fa759ec-64a3-4c3f-b34c-dae1bdbe0688",
   "metadata": {},
   "outputs": [
    {
     "name": "stdout",
     "output_type": "stream",
     "text": [
      "100^2 = 10000\n",
      "102^2 = 10404\n",
      "104^2 = 10816\n",
      "106^2 = 11236\n",
      "108^2 = 11664\n",
      "110^2 = 12100\n",
      "112^2 = 12544\n",
      "114^2 = 12996\n",
      "116^2 = 13456\n",
      "118^2 = 13924\n",
      "120^2 = 14400\n",
      "122^2 = 14884\n",
      "124^2 = 15376\n",
      "126^2 = 15876\n",
      "128^2 = 16384\n",
      "130^2 = 16900\n",
      "132^2 = 17424\n",
      "134^2 = 17956\n",
      "136^2 = 18496\n",
      "138^2 = 19044\n",
      "140^2 = 19600\n",
      "142^2 = 20164\n",
      "144^2 = 20736\n",
      "146^2 = 21316\n",
      "148^2 = 21904\n",
      "150^2 = 22500\n",
      "152^2 = 23104\n",
      "154^2 = 23716\n",
      "156^2 = 24336\n",
      "158^2 = 24964\n",
      "160^2 = 25600\n",
      "162^2 = 26244\n",
      "164^2 = 26896\n",
      "166^2 = 27556\n",
      "168^2 = 28224\n",
      "170^2 = 28900\n",
      "172^2 = 29584\n",
      "174^2 = 30276\n",
      "176^2 = 30976\n",
      "178^2 = 31684\n",
      "180^2 = 32400\n",
      "182^2 = 33124\n",
      "184^2 = 33856\n",
      "186^2 = 34596\n",
      "188^2 = 35344\n",
      "190^2 = 36100\n",
      "192^2 = 36864\n",
      "194^2 = 37636\n",
      "196^2 = 38416\n",
      "198^2 = 39204\n",
      "200^2 = 40000\n"
     ]
    }
   ],
   "source": [
    "def print_squares(choice='even'):\n",
    "    \"\"\"\n",
    "    Print the squares of either even or odd numbers in the range 100 to 200.\n",
    "    \n",
    "    Parameters:\n",
    "    choice (str): 'even' for even numbers, 'odd' for odd numbers.\n",
    "    \"\"\"\n",
    "    for i in range(100, 201):\n",
    "        if choice == 'even' and i % 2 == 0:\n",
    "            print(f\"{i}^2 = {i**2}\")\n",
    "        elif choice == 'odd' and i % 2 != 0:\n",
    "            print(f\"{i}^2 = {i**2}\")\n",
    "\n",
    "# Choose 'even' or 'odd' and run the function\n",
    "print_squares('even')\n"
   ]
  },
  {
   "cell_type": "markdown",
   "id": "1fab58ee-5089-4a43-8dad-11a1a1cc824d",
   "metadata": {},
   "source": [
    "# Exercise 4: Word counter"
   ]
  },
  {
   "cell_type": "markdown",
   "id": "c4b2dac9-39a0-463b-99ac-6e6e1d538444",
   "metadata": {},
   "source": [
    "* write a program to count the number of words in a given text.\n",
    "example:\n",
    "input_text = \"This is a sample text. This text will be used to demonstrate the word counter.\"\n",
    "Expected output:\n",
    "'This': 2 \n",
    "'is': 1\n",
    "'a': 1\n",
    "'sample': 1\n",
    "'text.': 1\n"
   ]
  },
  {
   "cell_type": "code",
   "execution_count": 13,
   "id": "ed0e296a-c3be-4c39-ae82-3ea0f7fd0a6e",
   "metadata": {},
   "outputs": [
    {
     "name": "stdout",
     "output_type": "stream",
     "text": [
      "'This': 2\n",
      "'is': 1\n",
      "'a': 1\n",
      "'sample': 1\n",
      "'text.': 1\n",
      "'text': 1\n",
      "'will': 1\n",
      "'be': 1\n",
      "'used': 1\n",
      "'to': 1\n",
      "'demonstrate': 1\n",
      "'the': 1\n",
      "'word': 1\n",
      "'counter.': 1\n"
     ]
    }
   ],
   "source": [
    "def word_counter(text):\n",
    "    words = text.split()\n",
    "    word_count = {}\n",
    "    for word in words:\n",
    "        word_count[word] = word_count.get(word, 0) + 1\n",
    "    \n",
    "    return word_count\n",
    "\n",
    "# Test the function\n",
    "input_text = \"This is a sample text. This text will be used to demonstrate the word counter.\"\n",
    "word_counts = word_counter(input_text)\n",
    "for word, count in word_counts.items():\n",
    "    print(f\"'{word}': {count}\")\n"
   ]
  },
  {
   "cell_type": "markdown",
   "id": "4904c02c-1524-42bc-a6ba-3b78608ce879",
   "metadata": {},
   "source": [
    "# Exercise 5: Check for Palindrome"
   ]
  },
  {
   "cell_type": "markdown",
   "id": "e5887843-2ea8-4e06-a8a1-cefe0f0638d0",
   "metadata": {},
   "source": [
    "* Write a Python function called is_palindrome that takes a string as input and returns True if the string is a palindrome, and False otherwise. A palindrome is a word, phrase, number, or other sequence of characters that reads the same forward and backward, ignoring spaces, punctuation, and capitalization.\n",
    "Example:\n",
    "Input: \"racecar\"\n",
    "Expected Output: True\n"
   ]
  },
  {
   "cell_type": "code",
   "execution_count": 16,
   "id": "f6f8632a-a6af-4973-a0a5-de931fe02fda",
   "metadata": {},
   "outputs": [
    {
     "name": "stdin",
     "output_type": "stream",
     "text": [
      "Enter a string to check if it is a palindrome:  nitin\n"
     ]
    },
    {
     "name": "stdout",
     "output_type": "stream",
     "text": [
      "Is 'nitin' a palindrome? True\n"
     ]
    }
   ],
   "source": [
    "def is_palindrome(s):\n",
    "    # Normalize the string by removing spaces and converting to lowercase\n",
    "    cleaned_string = ''.join(c.lower() for c in s if c.isalnum())\n",
    "    return cleaned_string == cleaned_string[::-1]\n",
    "\n",
    "# Ask the user to input a string\n",
    "user_input = input(\"Enter a string to check if it is a palindrome: \")\n",
    "\n",
    "# Print the result\n",
    "print(f\"Is '{user_input}' a palindrome? {is_palindrome(user_input)}\")\n"
   ]
  }
 ],
 "metadata": {
  "kernelspec": {
   "display_name": "Python 3 (ipykernel)",
   "language": "python",
   "name": "python3"
  },
  "language_info": {
   "codemirror_mode": {
    "name": "ipython",
    "version": 3
   },
   "file_extension": ".py",
   "mimetype": "text/x-python",
   "name": "python",
   "nbconvert_exporter": "python",
   "pygments_lexer": "ipython3",
   "version": "3.12.4"
  }
 },
 "nbformat": 4,
 "nbformat_minor": 5
}
