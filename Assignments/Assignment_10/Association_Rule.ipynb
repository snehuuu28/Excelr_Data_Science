{
 "cells": [
  {
   "cell_type": "markdown",
   "id": "4b4f1d62-bbf9-4381-8335-8e5b61fac841",
   "metadata": {},
   "source": [
    "# Association Rules for Market Basket Analysis"
   ]
  },
  {
   "cell_type": "markdown",
   "id": "8b3cb260-ecfa-4b35-849b-d1f4ca13ef61",
   "metadata": {},
   "source": [
    "* Objective:\n",
    "To identify interesting associations or relationships between products in the retail dataset using association rule mining techniques. The goal is to understand customer behavior and identify frequently co-purchased items."
   ]
  },
  {
   "cell_type": "code",
   "execution_count": 3,
   "id": "8aacbfb1-2294-4635-ac45-5ca1c5b3cee1",
   "metadata": {},
   "outputs": [
    {
     "name": "stdout",
     "output_type": "stream",
     "text": [
      "Defaulting to user installation because normal site-packages is not writeable\n",
      "Requirement already satisfied: mlxtend in c:\\users\\user\\appdata\\roaming\\python\\python312\\site-packages (0.23.3)\n",
      "Requirement already satisfied: scipy>=1.2.1 in c:\\programdata\\anaconda3\\lib\\site-packages (from mlxtend) (1.13.1)\n",
      "Requirement already satisfied: numpy>=1.16.2 in c:\\programdata\\anaconda3\\lib\\site-packages (from mlxtend) (1.26.4)\n",
      "Requirement already satisfied: pandas>=0.24.2 in c:\\users\\user\\appdata\\roaming\\python\\python312\\site-packages (from mlxtend) (2.2.3)\n",
      "Requirement already satisfied: scikit-learn>=1.3.1 in c:\\programdata\\anaconda3\\lib\\site-packages (from mlxtend) (1.4.2)\n",
      "Requirement already satisfied: matplotlib>=3.0.0 in c:\\programdata\\anaconda3\\lib\\site-packages (from mlxtend) (3.8.4)\n",
      "Requirement already satisfied: joblib>=0.13.2 in c:\\programdata\\anaconda3\\lib\\site-packages (from mlxtend) (1.4.2)\n",
      "Requirement already satisfied: contourpy>=1.0.1 in c:\\programdata\\anaconda3\\lib\\site-packages (from matplotlib>=3.0.0->mlxtend) (1.2.0)\n",
      "Requirement already satisfied: cycler>=0.10 in c:\\programdata\\anaconda3\\lib\\site-packages (from matplotlib>=3.0.0->mlxtend) (0.11.0)\n",
      "Requirement already satisfied: fonttools>=4.22.0 in c:\\programdata\\anaconda3\\lib\\site-packages (from matplotlib>=3.0.0->mlxtend) (4.51.0)\n",
      "Requirement already satisfied: kiwisolver>=1.3.1 in c:\\programdata\\anaconda3\\lib\\site-packages (from matplotlib>=3.0.0->mlxtend) (1.4.4)\n",
      "Requirement already satisfied: packaging>=20.0 in c:\\programdata\\anaconda3\\lib\\site-packages (from matplotlib>=3.0.0->mlxtend) (23.2)\n",
      "Requirement already satisfied: pillow>=8 in c:\\programdata\\anaconda3\\lib\\site-packages (from matplotlib>=3.0.0->mlxtend) (10.3.0)\n",
      "Requirement already satisfied: pyparsing>=2.3.1 in c:\\programdata\\anaconda3\\lib\\site-packages (from matplotlib>=3.0.0->mlxtend) (3.0.9)\n",
      "Requirement already satisfied: python-dateutil>=2.7 in c:\\programdata\\anaconda3\\lib\\site-packages (from matplotlib>=3.0.0->mlxtend) (2.9.0.post0)\n",
      "Requirement already satisfied: pytz>=2020.1 in c:\\programdata\\anaconda3\\lib\\site-packages (from pandas>=0.24.2->mlxtend) (2024.1)\n",
      "Requirement already satisfied: tzdata>=2022.7 in c:\\programdata\\anaconda3\\lib\\site-packages (from pandas>=0.24.2->mlxtend) (2023.3)\n",
      "Requirement already satisfied: threadpoolctl>=2.0.0 in c:\\programdata\\anaconda3\\lib\\site-packages (from scikit-learn>=1.3.1->mlxtend) (2.2.0)\n",
      "Requirement already satisfied: six>=1.5 in c:\\programdata\\anaconda3\\lib\\site-packages (from python-dateutil>=2.7->matplotlib>=3.0.0->mlxtend) (1.16.0)\n"
     ]
    }
   ],
   "source": [
    "# Install required library\n",
    "!pip install mlxtend\n"
   ]
  },
  {
   "cell_type": "code",
   "execution_count": 4,
   "id": "df7b5727-9ac6-4ec4-b78c-67f3350eac94",
   "metadata": {},
   "outputs": [],
   "source": [
    "# Import Libraries\n",
    "import pandas as pd\n",
    "import numpy as np\n",
    "from mlxtend.frequent_patterns import association_rules, apriori\n",
    "from mlxtend.preprocessing import TransactionEncoder\n",
    "import warnings\n",
    "warnings.filterwarnings('ignore')"
   ]
  },
  {
   "cell_type": "markdown",
   "id": "88021ec8-3ce6-4c18-a829-304ffd5a4f45",
   "metadata": {},
   "source": [
    "# Dataset"
   ]
  },
  {
   "cell_type": "code",
   "execution_count": 6,
   "id": "61231a39-0235-494d-8669-499f3fe6d162",
   "metadata": {},
   "outputs": [],
   "source": [
    "df = pd.read_excel(\"https://raw.githubusercontent.com/snehuuu28/Excelr_Data_Science/main/Assignments/Assignment_10/Online%20retail.xlsx\", header=None)"
   ]
  },
  {
   "cell_type": "markdown",
   "id": "cf99089a-a77e-43be-bda5-d64dadc81bed",
   "metadata": {},
   "source": [
    "# Data Preprocessing"
   ]
  },
  {
   "cell_type": "code",
   "execution_count": 8,
   "id": "1a58ae78-ba2a-4b3f-a621-da373c23ca3c",
   "metadata": {},
   "outputs": [],
   "source": [
    "# Rename the column to 'Products' for better readability\n",
    "df.columns = ['Products']"
   ]
  },
  {
   "cell_type": "code",
   "execution_count": 9,
   "id": "7ec23f3b-c575-4510-a206-d7843758bec0",
   "metadata": {},
   "outputs": [
    {
     "name": "stdout",
     "output_type": "stream",
     "text": [
      "Dataset Information:\n",
      "<class 'pandas.core.frame.DataFrame'>\n",
      "RangeIndex: 7501 entries, 0 to 7500\n",
      "Data columns (total 1 columns):\n",
      " #   Column    Non-Null Count  Dtype \n",
      "---  ------    --------------  ----- \n",
      " 0   Products  7501 non-null   object\n",
      "dtypes: object(1)\n",
      "memory usage: 58.7+ KB\n"
     ]
    }
   ],
   "source": [
    "# Display the structure and summary of the dataset\n",
    "print(\"Dataset Information:\")\n",
    "df.info()"
   ]
  },
  {
   "cell_type": "code",
   "execution_count": 10,
   "id": "a3b6633c-d58e-467f-babc-8afc95628729",
   "metadata": {},
   "outputs": [
    {
     "name": "stdout",
     "output_type": "stream",
     "text": [
      "\n",
      "Missing Values Count:\n",
      "Products    0\n",
      "dtype: int64\n"
     ]
    }
   ],
   "source": [
    "print(\"\\nMissing Values Count:\")\n",
    "print(df.isnull().sum())"
   ]
  },
  {
   "cell_type": "code",
   "execution_count": 11,
   "id": "5cc04801-d8ac-4092-9e53-37ea96d73686",
   "metadata": {},
   "outputs": [
    {
     "name": "stdout",
     "output_type": "stream",
     "text": [
      "\n",
      "Dataset Summary:\n",
      "       Products\n",
      "count      7501\n",
      "unique     5176\n",
      "top     cookies\n",
      "freq        223\n"
     ]
    }
   ],
   "source": [
    "print(\"\\nDataset Summary:\")\n",
    "print(df.describe())"
   ]
  },
  {
   "cell_type": "code",
   "execution_count": 12,
   "id": "21592be7-e485-407b-8240-bb059ec5ace3",
   "metadata": {},
   "outputs": [
    {
     "name": "stdout",
     "output_type": "stream",
     "text": [
      "\n",
      "Sample Row:\n",
      "Products    burgers,meatballs,eggs\n",
      "Name: 1, dtype: object\n"
     ]
    }
   ],
   "source": [
    "# Check a sample row for verification\n",
    "print(\"\\nSample Row:\")\n",
    "print(df.iloc[1])"
   ]
  },
  {
   "cell_type": "code",
   "execution_count": 13,
   "id": "cbe2ac52-c299-409c-90c0-cb1c3e3275db",
   "metadata": {},
   "outputs": [],
   "source": [
    "# Split the 'Products' column into individual items\n",
    "# Each row is a transaction, with items separated by commas\n",
    "df = df['Products'].apply(lambda x: x.split(','))"
   ]
  },
  {
   "cell_type": "code",
   "execution_count": 14,
   "id": "b490c476-11b2-45fc-947f-d044c48f573f",
   "metadata": {},
   "outputs": [
    {
     "name": "stdout",
     "output_type": "stream",
     "text": [
      "\n",
      "Transformed Transactions (First 5 rows):\n",
      "0    [shrimp, almonds, avocado, vegetables mix, gre...\n",
      "1                           [burgers, meatballs, eggs]\n",
      "2                                            [chutney]\n",
      "3                                    [turkey, avocado]\n",
      "4    [mineral water, milk, energy bar, whole wheat ...\n",
      "Name: Products, dtype: object\n"
     ]
    }
   ],
   "source": [
    "# Display the transformed transactions\n",
    "print(\"\\nTransformed Transactions (First 5 rows):\")\n",
    "print(df.head())"
   ]
  },
  {
   "cell_type": "code",
   "execution_count": 15,
   "id": "14c22813-8036-4b01-96f0-c8e2660ad8c0",
   "metadata": {},
   "outputs": [],
   "source": [
    "# Encode the transactional data using TransactionEncoder\n",
    "te = TransactionEncoder()\n",
    "encoded_data = te.fit_transform(df)\n",
    "encoded_df = pd.DataFrame(encoded_data, columns=te.columns_)"
   ]
  },
  {
   "cell_type": "code",
   "execution_count": 16,
   "id": "6d098b41-47d5-482f-8701-cb37da213e05",
   "metadata": {},
   "outputs": [],
   "source": [
    "# Replace True/False with 1/0 for numerical processing\n",
    "encoded_df.replace([True, False], [1, 0], inplace=True)"
   ]
  },
  {
   "cell_type": "code",
   "execution_count": 17,
   "id": "93f7b991-fbdf-47f0-8e58-4c062d61c3b6",
   "metadata": {},
   "outputs": [
    {
     "name": "stdout",
     "output_type": "stream",
     "text": [
      "\n",
      "Encoded DataFrame Shape:\n",
      "(7501, 120)\n"
     ]
    }
   ],
   "source": [
    "# Display the shape and a preview of the encoded dataframe\n",
    "print(\"\\nEncoded DataFrame Shape:\")\n",
    "print(encoded_df.shape)"
   ]
  },
  {
   "cell_type": "code",
   "execution_count": 18,
   "id": "3133c45c-4b45-44bd-9042-5636fb839785",
   "metadata": {},
   "outputs": [
    {
     "name": "stdout",
     "output_type": "stream",
     "text": [
      "\n",
      "Encoded DataFrame Preview (First 5 rows):\n"
     ]
    },
    {
     "data": {
      "text/html": [
       "<div>\n",
       "<style scoped>\n",
       "    .dataframe tbody tr th:only-of-type {\n",
       "        vertical-align: middle;\n",
       "    }\n",
       "\n",
       "    .dataframe tbody tr th {\n",
       "        vertical-align: top;\n",
       "    }\n",
       "\n",
       "    .dataframe thead th {\n",
       "        text-align: right;\n",
       "    }\n",
       "</style>\n",
       "<table border=\"1\" class=\"dataframe\">\n",
       "  <thead>\n",
       "    <tr style=\"text-align: right;\">\n",
       "      <th></th>\n",
       "      <th>asparagus</th>\n",
       "      <th>almonds</th>\n",
       "      <th>antioxydant juice</th>\n",
       "      <th>asparagus</th>\n",
       "      <th>avocado</th>\n",
       "      <th>babies food</th>\n",
       "      <th>bacon</th>\n",
       "      <th>barbecue sauce</th>\n",
       "      <th>black tea</th>\n",
       "      <th>blueberries</th>\n",
       "      <th>...</th>\n",
       "      <th>turkey</th>\n",
       "      <th>vegetables mix</th>\n",
       "      <th>water spray</th>\n",
       "      <th>white wine</th>\n",
       "      <th>whole weat flour</th>\n",
       "      <th>whole wheat pasta</th>\n",
       "      <th>whole wheat rice</th>\n",
       "      <th>yams</th>\n",
       "      <th>yogurt cake</th>\n",
       "      <th>zucchini</th>\n",
       "    </tr>\n",
       "  </thead>\n",
       "  <tbody>\n",
       "    <tr>\n",
       "      <th>0</th>\n",
       "      <td>0</td>\n",
       "      <td>1</td>\n",
       "      <td>1</td>\n",
       "      <td>0</td>\n",
       "      <td>1</td>\n",
       "      <td>0</td>\n",
       "      <td>0</td>\n",
       "      <td>0</td>\n",
       "      <td>0</td>\n",
       "      <td>0</td>\n",
       "      <td>...</td>\n",
       "      <td>0</td>\n",
       "      <td>1</td>\n",
       "      <td>0</td>\n",
       "      <td>0</td>\n",
       "      <td>1</td>\n",
       "      <td>0</td>\n",
       "      <td>0</td>\n",
       "      <td>1</td>\n",
       "      <td>0</td>\n",
       "      <td>0</td>\n",
       "    </tr>\n",
       "    <tr>\n",
       "      <th>1</th>\n",
       "      <td>0</td>\n",
       "      <td>0</td>\n",
       "      <td>0</td>\n",
       "      <td>0</td>\n",
       "      <td>0</td>\n",
       "      <td>0</td>\n",
       "      <td>0</td>\n",
       "      <td>0</td>\n",
       "      <td>0</td>\n",
       "      <td>0</td>\n",
       "      <td>...</td>\n",
       "      <td>0</td>\n",
       "      <td>0</td>\n",
       "      <td>0</td>\n",
       "      <td>0</td>\n",
       "      <td>0</td>\n",
       "      <td>0</td>\n",
       "      <td>0</td>\n",
       "      <td>0</td>\n",
       "      <td>0</td>\n",
       "      <td>0</td>\n",
       "    </tr>\n",
       "    <tr>\n",
       "      <th>2</th>\n",
       "      <td>0</td>\n",
       "      <td>0</td>\n",
       "      <td>0</td>\n",
       "      <td>0</td>\n",
       "      <td>0</td>\n",
       "      <td>0</td>\n",
       "      <td>0</td>\n",
       "      <td>0</td>\n",
       "      <td>0</td>\n",
       "      <td>0</td>\n",
       "      <td>...</td>\n",
       "      <td>0</td>\n",
       "      <td>0</td>\n",
       "      <td>0</td>\n",
       "      <td>0</td>\n",
       "      <td>0</td>\n",
       "      <td>0</td>\n",
       "      <td>0</td>\n",
       "      <td>0</td>\n",
       "      <td>0</td>\n",
       "      <td>0</td>\n",
       "    </tr>\n",
       "    <tr>\n",
       "      <th>3</th>\n",
       "      <td>0</td>\n",
       "      <td>0</td>\n",
       "      <td>0</td>\n",
       "      <td>0</td>\n",
       "      <td>1</td>\n",
       "      <td>0</td>\n",
       "      <td>0</td>\n",
       "      <td>0</td>\n",
       "      <td>0</td>\n",
       "      <td>0</td>\n",
       "      <td>...</td>\n",
       "      <td>1</td>\n",
       "      <td>0</td>\n",
       "      <td>0</td>\n",
       "      <td>0</td>\n",
       "      <td>0</td>\n",
       "      <td>0</td>\n",
       "      <td>0</td>\n",
       "      <td>0</td>\n",
       "      <td>0</td>\n",
       "      <td>0</td>\n",
       "    </tr>\n",
       "    <tr>\n",
       "      <th>4</th>\n",
       "      <td>0</td>\n",
       "      <td>0</td>\n",
       "      <td>0</td>\n",
       "      <td>0</td>\n",
       "      <td>0</td>\n",
       "      <td>0</td>\n",
       "      <td>0</td>\n",
       "      <td>0</td>\n",
       "      <td>0</td>\n",
       "      <td>0</td>\n",
       "      <td>...</td>\n",
       "      <td>0</td>\n",
       "      <td>0</td>\n",
       "      <td>0</td>\n",
       "      <td>0</td>\n",
       "      <td>0</td>\n",
       "      <td>0</td>\n",
       "      <td>1</td>\n",
       "      <td>0</td>\n",
       "      <td>0</td>\n",
       "      <td>0</td>\n",
       "    </tr>\n",
       "  </tbody>\n",
       "</table>\n",
       "<p>5 rows × 120 columns</p>\n",
       "</div>"
      ],
      "text/plain": [
       "    asparagus  almonds  antioxydant juice  asparagus  avocado  babies food  \\\n",
       "0           0        1                  1          0        1            0   \n",
       "1           0        0                  0          0        0            0   \n",
       "2           0        0                  0          0        0            0   \n",
       "3           0        0                  0          0        1            0   \n",
       "4           0        0                  0          0        0            0   \n",
       "\n",
       "   bacon  barbecue sauce  black tea  blueberries  ...  turkey  vegetables mix  \\\n",
       "0      0               0          0            0  ...       0               1   \n",
       "1      0               0          0            0  ...       0               0   \n",
       "2      0               0          0            0  ...       0               0   \n",
       "3      0               0          0            0  ...       1               0   \n",
       "4      0               0          0            0  ...       0               0   \n",
       "\n",
       "   water spray  white wine  whole weat flour  whole wheat pasta  \\\n",
       "0            0           0                 1                  0   \n",
       "1            0           0                 0                  0   \n",
       "2            0           0                 0                  0   \n",
       "3            0           0                 0                  0   \n",
       "4            0           0                 0                  0   \n",
       "\n",
       "   whole wheat rice  yams  yogurt cake  zucchini  \n",
       "0                 0     1            0         0  \n",
       "1                 0     0            0         0  \n",
       "2                 0     0            0         0  \n",
       "3                 0     0            0         0  \n",
       "4                 1     0            0         0  \n",
       "\n",
       "[5 rows x 120 columns]"
      ]
     },
     "execution_count": 18,
     "metadata": {},
     "output_type": "execute_result"
    }
   ],
   "source": [
    "print(\"\\nEncoded DataFrame Preview (First 5 rows):\")\n",
    "encoded_df.head()"
   ]
  },
  {
   "cell_type": "markdown",
   "id": "9df8f822-cfa9-4dcd-b400-dbee77faa183",
   "metadata": {},
   "source": [
    "# Association Rule Mining"
   ]
  },
  {
   "cell_type": "code",
   "execution_count": 20,
   "id": "f00e3e69-b1b4-4307-b325-8587f84d7318",
   "metadata": {},
   "outputs": [
    {
     "name": "stdout",
     "output_type": "stream",
     "text": [
      "\n",
      "Frequent Itemsets:\n",
      "    support     itemsets\n",
      "0  0.087188    (burgers)\n",
      "1  0.081056       (cake)\n",
      "2  0.059992    (chicken)\n",
      "3  0.163845  (chocolate)\n",
      "4  0.080389    (cookies)\n",
      "\n",
      "Sorted Association Rules (Top 5):\n",
      "       antecedents      consequents  antecedent support  consequent support  \\\n",
      "4  (mineral water)      (spaghetti)            0.238368            0.174110   \n",
      "5      (spaghetti)  (mineral water)            0.174110            0.238368   \n",
      "0      (chocolate)  (mineral water)            0.163845            0.238368   \n",
      "1  (mineral water)      (chocolate)            0.238368            0.163845   \n",
      "2           (eggs)  (mineral water)            0.179709            0.238368   \n",
      "\n",
      "    support  confidence      lift  representativity  leverage  conviction  \\\n",
      "4  0.059725    0.250559  1.439085               1.0  0.018223    1.102008   \n",
      "5  0.059725    0.343032  1.439085               1.0  0.018223    1.159314   \n",
      "0  0.052660    0.321400  1.348332               1.0  0.013604    1.122357   \n",
      "1  0.052660    0.220917  1.348332               1.0  0.013604    1.073256   \n",
      "2  0.050927    0.283383  1.188845               1.0  0.008090    1.062815   \n",
      "\n",
      "   zhangs_metric   jaccard  certainty  kulczynski  \n",
      "4       0.400606  0.169312   0.092566    0.296796  \n",
      "5       0.369437  0.169312   0.137421    0.296796  \n",
      "0       0.308965  0.150648   0.109018    0.271158  \n",
      "1       0.339197  0.150648   0.068256    0.271158  \n",
      "2       0.193648  0.138707   0.059103    0.248515  \n",
      "\n",
      "Insights from Association Rules:\n",
      "Rule: If a customer buys frozenset({'mineral water'}), they are likely to buy frozenset({'spaghetti'}).\n",
      " - Support: 0.06, Confidence: 0.25, Lift: 1.44\n",
      "\n",
      "Rule: If a customer buys frozenset({'spaghetti'}), they are likely to buy frozenset({'mineral water'}).\n",
      " - Support: 0.06, Confidence: 0.34, Lift: 1.44\n",
      "\n",
      "Rule: If a customer buys frozenset({'chocolate'}), they are likely to buy frozenset({'mineral water'}).\n",
      " - Support: 0.05, Confidence: 0.32, Lift: 1.35\n",
      "\n",
      "Rule: If a customer buys frozenset({'mineral water'}), they are likely to buy frozenset({'chocolate'}).\n",
      " - Support: 0.05, Confidence: 0.22, Lift: 1.35\n",
      "\n",
      "Rule: If a customer buys frozenset({'eggs'}), they are likely to buy frozenset({'mineral water'}).\n",
      " - Support: 0.05, Confidence: 0.28, Lift: 1.19\n",
      "\n"
     ]
    }
   ],
   "source": [
    "# Apply Apriori Algorithm with a lower support threshold of 0.05 and allowing larger itemsets\n",
    "frequent_itemsets = apriori(encoded_df, min_support=0.05, use_colnames=True, max_len=3)\n",
    "\n",
    "# Display frequent itemsets\n",
    "print(\"\\nFrequent Itemsets:\")\n",
    "print(frequent_itemsets.head())\n",
    "\n",
    "# Ensure itemsets are in frozenset format (necessary for association_rules)\n",
    "frequent_itemsets['itemsets'] = frequent_itemsets['itemsets'].apply(frozenset)\n",
    "\n",
    "# Number of itemsets in the frequent_itemsets\n",
    "num_itemsets = len(frequent_itemsets)\n",
    "\n",
    "# Generate Association Rules with Lift as the metric and lower confidence threshold (e.g., 0.3)\n",
    "if not frequent_itemsets.empty:\n",
    "    rules = association_rules(frequent_itemsets, metric=\"lift\", min_threshold=1, num_itemsets=num_itemsets)\n",
    "\n",
    "    # Sort rules by lift for better interpretation\n",
    "    sorted_rules = rules.sort_values(by='lift', ascending=False)\n",
    "\n",
    "    # Display the sorted rules\n",
    "    print(\"\\nSorted Association Rules (Top 5):\")\n",
    "    print(sorted_rules.head())\n",
    "\n",
    "    # Provide insights from the rules\n",
    "    print(\"\\nInsights from Association Rules:\")\n",
    "    if not sorted_rules.empty:\n",
    "        for index, rule in sorted_rules.head(5).iterrows():\n",
    "            print(f\"Rule: If a customer buys {rule['antecedents']}, they are likely to buy {rule['consequents']}.\")\n",
    "            print(f\" - Support: {rule['support']:.2f}, Confidence: {rule['confidence']:.2f}, Lift: {rule['lift']:.2f}\\n\")\n",
    "    else:\n",
    "        print(\"No significant rules found. Adjust thresholds for better results.\")\n",
    "else:\n",
    "    print(\"No frequent itemsets found. Adjust the minimum support threshold.\")\n"
   ]
  },
  {
   "cell_type": "markdown",
   "id": "fa6bf3c4-910d-41ff-9150-cea0725a27e1",
   "metadata": {},
   "source": [
    "# Analysis and Interpretation:"
   ]
  },
  {
   "cell_type": "markdown",
   "id": "b61551df-6054-4322-accd-92cde6055ded",
   "metadata": {},
   "source": [
    "* Spaghetti and Mineral Water: The top two rules suggest that spaghetti and mineral water are frequently bought together. This could be due to customer preferences for pairing certain foods (e.g., pasta and drinks) during a shopping trip.\n",
    "  \n",
    "* Chocolate and Mineral Water: There is also a relationship between chocolate and mineral water, which may indicate that customers often buy chocolate and drinks in similar shopping baskets.\n",
    "  \n",
    "* Eggs and Mineral Water: The relationship between eggs and mineral water is also interesting but less strong than the others. It could reflect broader customer shopping patterns, where mineral water is a staple that gets bought along with other products."
   ]
  }
 ],
 "metadata": {
  "kernelspec": {
   "display_name": "Python 3 (ipykernel)",
   "language": "python",
   "name": "python3"
  },
  "language_info": {
   "codemirror_mode": {
    "name": "ipython",
    "version": 3
   },
   "file_extension": ".py",
   "mimetype": "text/x-python",
   "name": "python",
   "nbconvert_exporter": "python",
   "pygments_lexer": "ipython3",
   "version": "3.12.4"
  }
 },
 "nbformat": 4,
 "nbformat_minor": 5
}
