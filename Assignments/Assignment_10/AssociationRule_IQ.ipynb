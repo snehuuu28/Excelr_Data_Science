{
 "cells": [
  {
   "cell_type": "markdown",
   "id": "138e0d73-de84-40d4-9993-b28d18571f53",
   "metadata": {},
   "source": [
    "# Interview Questions"
   ]
  },
  {
   "cell_type": "markdown",
   "id": "dde42d89-6a68-44c1-b2c5-20e19b1750d1",
   "metadata": {},
   "source": [
    "# 1.\tWhat is lift and why is it important in Association rules?"
   ]
  },
  {
   "cell_type": "markdown",
   "id": "0d57d6bd-f742-48a1-b70e-d5e05820ebf1",
   "metadata": {},
   "source": [
    "Lift is a measure used in association rule mining to evaluate the strength of a rule relative to the random co-occurrence of the items involved. It indicates whether the presence of one item increases or decreases the likelihood of another item appearing in the same transaction.\n",
    "\n",
    " * Lift= Confidence (A → B) / Support (B)  \n",
    "\n",
    "Or equivalently:\n",
    "\n",
    " * Lift =  Support (A ∩ B) / Support (A) × Support (B)\n",
    "\n",
    "* Interpretation:\n",
    "\n",
    "1) Lift > 1: The occurrence of 𝐴 increases the likelihood of 𝐵 . A & B are positively correlated.\n",
    "\n",
    "2) Lift = 1: 𝐴 and B are independent. The rule has no association.\n",
    "\n",
    "3) Lift < 1: The occurrence of 𝐴 decreases the likelihood of 𝐵. A and B are negatively correlated.\n",
    "\n",
    "* Importance:\n",
    "\n",
    "-- Lift adjusts for the baseline frequency of 𝐵 and avoids misleading rules that have high confidence simply because  is frequent in the dataset.\n",
    "-- It helps in identifying meaningful and interesting associations, especially in datasets with imbalanced frequencies of items.\n"
   ]
  },
  {
   "cell_type": "markdown",
   "id": "a7696ea0-c4dc-4dd2-93cc-6fc6fc155320",
   "metadata": {},
   "source": [
    "# 2.\tWhat is support and Confidence. How do you calculate them?\n"
   ]
  },
  {
   "cell_type": "markdown",
   "id": "fced51ed-8ee3-40cc-b0f6-36d853fbc6b2",
   "metadata": {},
   "source": [
    "Support and confidence are metrics used to evaluate the quality and relevance of association rules.\n",
    "\n",
    "* Support: Indicates how frequently an itemset appears in the dataset. It measures the proportion of transactions that contain a specific itemset.\n",
    "   - Support(A) = Number of transactions containing A / Total number of transactions\n",
    "​\n",
    "- Purpose: Ensures that the rule is relevant and not based on rare occurrences.\n",
    "\n",
    "*  Confidence:\n",
    "   - Measures the likelihood of 𝐵 occurring when 𝐴 is present in a transaction. It evaluates the strength of the implication A→B.\n",
    "  \n",
    "  * Confidence(A → B) = Support(A ∩ B)/ Support(A)\n",
    "\n",
    "- Purpose: Determines the reliability of the rule."
   ]
  },
  {
   "cell_type": "markdown",
   "id": "7ce71cc4-8658-4b21-98ce-6ec6ec07b09d",
   "metadata": {},
   "source": [
    "# 3.\tWhat are some limitations or challenges of Association rules mining?\n"
   ]
  },
  {
   "cell_type": "markdown",
   "id": "8bf1f797-e700-4ca6-8093-ef12dde05459",
   "metadata": {},
   "source": [
    "1) Scalability:\n",
    "  * As the number of items in the dataset grows, the computational complexity increases exponentially, leading to performance challenges.\n",
    "\n",
    "2) Threshold Selection:\n",
    "* Choosing appropriate minimum support and confidence thresholds can be difficult. Low thresholds result in too many rules, while high thresholds may miss meaningful associations.\n",
    "\n",
    "3) Redundant Rules:\n",
    "* Many rules may convey the same information, leading to redundancy and a lack of interpretability.\n",
    "\n",
    "4) Imbalanced Datasets:\n",
    "* In datasets with rare items, association rule mining may fail to identify meaningful relationships unless thresholds are carefully adjusted.\n",
    "\n",
    "5) Domain Dependency:\n",
    "* Not all discovered rules are actionable or relevant; domain knowledge is often required to interpret the results meaningfully.\n",
    "\n",
    "6) Lack of Temporal Context:\n",
    "* Association rules are static and do not account for time-based patterns or trends in data.\n",
    "\n",
    "7) Difficulty Handling Continuous Data:\n",
    "* Continuous numerical attributes need to be discretized, which can lead to information loss or biased intervals.\n",
    "\n",
    "8) Overwhelming Number of Rules:\n",
    "* In large datasets, the number of generated rules can be overwhelming, making it difficult to identify the most useful ones without further filtering techniques.\n"
   ]
  }
 ],
 "metadata": {
  "kernelspec": {
   "display_name": "Python 3 (ipykernel)",
   "language": "python",
   "name": "python3"
  },
  "language_info": {
   "codemirror_mode": {
    "name": "ipython",
    "version": 3
   },
   "file_extension": ".py",
   "mimetype": "text/x-python",
   "name": "python",
   "nbconvert_exporter": "python",
   "pygments_lexer": "ipython3",
   "version": "3.12.4"
  }
 },
 "nbformat": 4,
 "nbformat_minor": 5
}
